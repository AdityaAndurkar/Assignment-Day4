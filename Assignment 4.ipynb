{
 "cells": [
  {
   "cell_type": "code",
   "execution_count": 6,
   "metadata": {},
   "outputs": [
    {
     "name": "stdout",
     "output_type": "stream",
     "text": [
      "Enter Sub-string: we\n",
      "Original string : what we think we become; we are Python programmer\n",
      "Sub-string : we\n",
      "Start indices of the substring :\n",
      "5\n",
      "14\n",
      "25\n"
     ]
    }
   ],
   "source": [
    "# Find All occurrences of substring in the given string and print index values.\n",
    "\n",
    "str1 = \"what we think we become; we are Python programmer\"\n",
    "sub_str = input(\"Enter Sub-string: \")\n",
    "\n",
    "print(\"Original string : \" + str1)\n",
    "\n",
    "print(\"Sub-string : \" + sub_str)\n",
    "\n",
    "print(\"Start indices of the substring :\")\n",
    "\n",
    "for i in range(len(str1)): \n",
    "    if str1.startswith(sub_str, i):\n",
    "        print(i) "
   ]
  },
  {
   "cell_type": "code",
   "execution_count": 3,
   "metadata": {},
   "outputs": [
    {
     "name": "stdout",
     "output_type": "stream",
     "text": [
      "True\n",
      "False\n"
     ]
    }
   ],
   "source": [
    "# isupper() is a built-in method used for string handling.\n",
    "# The isupper() methods returns “True” if all characters in the string are uppercase, Otherwise, It returns “False”.\n",
    "# This function is used to check if the argument contains any uppercase characters.\n",
    "\n",
    "string = 'ABCDE'\n",
    "print(string.isupper())\n",
    "\n",
    "string = 'abcde'\n",
    "print(string.isupper()) "
   ]
  },
  {
   "cell_type": "code",
   "execution_count": 5,
   "metadata": {},
   "outputs": [
    {
     "name": "stdout",
     "output_type": "stream",
     "text": [
      "True\n",
      "False\n"
     ]
    }
   ],
   "source": [
    "# islower() is a built-in method used for string handling.\n",
    "# The islower() methods returns “True” if all characters in the string are lowercase, Otherwise, It returns “False”.\n",
    "# This function is used to check if the argument contains any lowercase characters such.\n",
    "\n",
    "string = 'abcde'\n",
    "print(string.islower())\n",
    "\n",
    "string = 'ABCDE'\n",
    "print(string.islower()) "
   ]
  },
  {
   "cell_type": "code",
   "execution_count": null,
   "metadata": {},
   "outputs": [],
   "source": []
  }
 ],
 "metadata": {
  "kernelspec": {
   "display_name": "Python 3",
   "language": "python",
   "name": "python3"
  },
  "language_info": {
   "codemirror_mode": {
    "name": "ipython",
    "version": 3
   },
   "file_extension": ".py",
   "mimetype": "text/x-python",
   "name": "python",
   "nbconvert_exporter": "python",
   "pygments_lexer": "ipython3",
   "version": "3.7.6"
  }
 },
 "nbformat": 4,
 "nbformat_minor": 4
}
